{
 "cells": [
  {
   "cell_type": "code",
   "execution_count": 1,
   "id": "c94767b7",
   "metadata": {},
   "outputs": [],
   "source": [
    "from excels2vensim import Constants"
   ]
  },
  {
   "cell_type": "code",
   "execution_count": 2,
   "id": "75620bc9",
   "metadata": {},
   "outputs": [],
   "source": [
    "obj = Constants('share_energy', ['sector', 'region', 'source', 'out'], 'C4', file='inputs.xlsx')\n",
    "obj.add_dimension('sector', 'col')\n",
    "obj.add_dimension('region', 'sheet', ['Region1', 'Region2', 'Region3', 'Region4'])\n",
    "obj.add_dimension('source', 'row')\n",
    "obj.add_dimension('out', 'row', 3)"
   ]
  },
  {
   "cell_type": "code",
   "execution_count": 3,
   "id": "84cdd8e2",
   "metadata": {},
   "outputs": [],
   "source": [
    "obj.get_vensim()"
   ]
  },
  {
   "cell_type": "code",
   "execution_count": null,
   "id": "d2680dfb",
   "metadata": {},
   "outputs": [],
   "source": []
  }
 ],
 "metadata": {
  "kernelspec": {
   "display_name": "Python 3",
   "language": "python",
   "name": "python3"
  },
  "language_info": {
   "codemirror_mode": {
    "name": "ipython",
    "version": 3
   },
   "file_extension": ".py",
   "mimetype": "text/x-python",
   "name": "python",
   "nbconvert_exporter": "python",
   "pygments_lexer": "ipython3",
   "version": "3.9.1"
  }
 },
 "nbformat": 4,
 "nbformat_minor": 5
}
